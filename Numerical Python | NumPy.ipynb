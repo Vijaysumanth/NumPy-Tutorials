{
 "cells": [
  {
   "cell_type": "markdown",
   "metadata": {},
   "source": [
    "<p style=\"font-family: Arial; font-size:3.75em;color:purple; font-style:bold\"><br>\n",
    "NumPy Tutorial</p><br>\n",
    "\n",
    "**NumPy** is a core-library for scientific computing in Python which provides high performance multidimentional array objects as well as concern tools or attributes for working on these array objects. \n",
    "\n",
    "Numerical Python or NumPy for short is one of the most foundational packages for numerical computing in Python. In fact, most advanced computational packages providing scientific functionality use it's array objects.\n",
    "\n",
    "In these notebook tutorial following content will be covered.\n",
    "\n",
    "- NumPy Array Objects\n",
    "- Array Indexing \n",
    "- Math Operation\n",
    "- Broadcastng"
   ]
  },
  {
   "cell_type": "markdown",
   "metadata": {},
   "source": [
    "<p style=\"font-family: Arial; font-size:1.75em;color:#2462C0; font-style:bold\"><br>NumPy Array Objects</p><br>\n",
    "NumPy array is a powerful array object with N-dimentional array object which is in the form of rows and columns, all of the same type, and is indexed by a tuple of nonnegative integers.."
   ]
  },
  {
   "cell_type": "code",
   "execution_count": 1,
   "metadata": {},
   "outputs": [
    {
     "name": "stdout",
     "output_type": "stream",
     "text": [
      "[1, 2, 3, 4]\n",
      "<class 'list'>\n",
      "--------------------------------------------\n",
      "[1 2 3 4]\n",
      "<class 'numpy.ndarray'>\n"
     ]
    },
    {
     "data": {
      "text/plain": [
       "\"output\\n[1 2 3 4]\\n<class 'numpy.ndarray'>\\n\""
      ]
     },
     "execution_count": 1,
     "metadata": {},
     "output_type": "execute_result"
    }
   ],
   "source": [
    "import numpy as np # installatijon command: pip install numpy\n",
    "\n",
    "# a simple list\n",
    "a_list = [1,2,3,4] \n",
    "print(a_list)\n",
    "print(type(a_list))\n",
    "'''output\n",
    "[1, 2, 3, 4]\n",
    "<class 'list'>\n",
    "'''\n",
    "\n",
    "print('--------------------------------------------')\n",
    "\n",
    "# convert list to ndarray using numpy array function\n",
    "list_to_ndarray = np.array(a_list)\n",
    "print(list_to_ndarray)\n",
    "print(type(list_to_ndarray))\n",
    "'''output\n",
    "[1 2 3 4]\n",
    "<class 'numpy.ndarray'>\n",
    "'''"
   ]
  },
  {
   "cell_type": "code",
   "execution_count": 2,
   "metadata": {},
   "outputs": [
    {
     "name": "stdout",
     "output_type": "stream",
     "text": [
      "1D array \n",
      " [1 2 3 4]\n",
      "Shape     :  (4,)\n",
      "Rank      :  1\n",
      "Size      :  4\n",
      "DatA Type :  int64\n",
      "--------------------------------------------\n",
      "2D array \n",
      " [[1. 2. 3. 4.]\n",
      " [4. 3. 2. 1.]]\n",
      "Shape     :  (2, 4)\n",
      "Rank      :  2\n",
      "Size      :  8\n",
      "DatA Type :  float64\n",
      "--------------------------------------------\n",
      "3D array \n",
      " [[[ 1  2  3  4]]\n",
      "\n",
      " [[-1 -2 -3 -4]]\n",
      "\n",
      " [[ 1  2  3  4]]]\n",
      "Shape     :  (3, 1, 4)\n",
      "Rank      :  3\n",
      "Size      :  12\n",
      "DatA Type :  int64\n"
     ]
    },
    {
     "data": {
      "text/plain": [
       "'output\\n3D array \\n [[[ 1  2  3  4]]\\n\\n [[-1 -2 -3 -4]]\\n\\n [[ 1  2  3  4]]]\\nShape     :  (3, 1, 4)\\nRank      :  3\\nSize      :  12\\nDatA Type :  int64\\n'"
      ]
     },
     "execution_count": 2,
     "metadata": {},
     "output_type": "execute_result"
    }
   ],
   "source": [
    "'''\n",
    "shape : gives row by columns\n",
    "ndim  : rank of the array\n",
    "\n",
    "The number of dimensions is the rank of the array; the shape of an array is a \n",
    "tuple of integers giving the size of the array along each dimension.\n",
    "'''\n",
    "\n",
    "array1D = np.array( [1,2,3,4] )\n",
    "print('1D array \\n', array1D) # 1D array | vector\n",
    "print('Shape     : ', array1D.shape) # (4,)\n",
    "print('Rank      : ', array1D.ndim)  # 1\n",
    "print('Size      : ', array1D.size)  # 4\n",
    "print('DatA Type : ', array1D.dtype) # int\n",
    "'''output\n",
    "1D array \n",
    " [1 2 3 4]\n",
    "Shape     :  (4,)\n",
    "Rank      :  1\n",
    "Size      :  4\n",
    "DatA Type :  int64\n",
    "'''\n",
    "\n",
    "print('--------------------------------------------')\n",
    "\n",
    "array2D = np.array( [ [1.,2.,3.,4.], [4.,3.,2.,1.] ] )\n",
    "print('2D array \\n',array2D) # 2D array | matrix\n",
    "print('Shape     : ', array2D.shape) # (2,4)\n",
    "print('Rank      : ', array2D.ndim)  # 2\n",
    "print('Size      : ', array2D.size)  # 8\n",
    "print('DatA Type : ', array2D.dtype) # float\n",
    "'''output\n",
    "2D array \n",
    " [[1. 2. 3. 4.]\n",
    " [4. 3. 2. 1.]]\n",
    "Shape     :  (2, 4)\n",
    "Rank      :  2\n",
    "Size      :  8\n",
    "DatA Type :  float64\n",
    "'''\n",
    "\n",
    "print('--------------------------------------------')\n",
    "\n",
    "array3D = np.array( [ [[1,2,3,4]], [[-1,-2,-3,-4]], [[1,2,3,4]] ] )\n",
    "print('3D array \\n', array3D)\n",
    "print('Shape     : ', array3D.shape) # (3, 1, 4)\n",
    "print('Rank      : ', array3D.ndim)  # 3\n",
    "print('Size      : ', array3D.size)  # 12\n",
    "print('DatA Type : ', array3D.dtype) # int\n",
    "'''output\n",
    "3D array \n",
    " [[[ 1  2  3  4]]\n",
    "\n",
    " [[-1 -2 -3 -4]]\n",
    "\n",
    " [[ 1  2  3  4]]]\n",
    "Shape     :  (3, 1, 4)\n",
    "Rank      :  3\n",
    "Size      :  12\n",
    "DatA Type :  int64\n",
    "'''"
   ]
  },
  {
   "cell_type": "code",
   "execution_count": 3,
   "metadata": {},
   "outputs": [
    {
     "name": "stdout",
     "output_type": "stream",
     "text": [
      "[0 1 2 3 4 5 6 7 8 9]\n",
      "int64\n",
      "<class 'numpy.ndarray'>\n",
      "--------------------------------------------\n",
      "[[0 1 2 3 4]\n",
      " [5 6 7 8 9]]\n",
      "int64\n",
      "<class 'numpy.ndarray'>\n",
      "--------------------------------------------\n",
      "2D array \n",
      " [[ 0  1  2  3  4]\n",
      " [ 5  6  7  8  9]\n",
      " [10 11 12 13 14]\n",
      " [15 16 17 18 19]]\n",
      "Shape     :  (4, 5)\n",
      "Rank      :  2\n",
      "Size      :  20\n",
      "DatA Type :  int64\n",
      "--------------------------------------------\n",
      "3D array \n",
      " [[[ 0  1  2  3  4]\n",
      "  [ 5  6  7  8  9]]\n",
      "\n",
      " [[10 11 12 13 14]\n",
      "  [15 16 17 18 19]]]\n",
      "Shape     :  (2, 2, 5)\n",
      "Rank      :  3\n",
      "Size      :  20\n",
      "DatA Type :  int64\n"
     ]
    },
    {
     "data": {
      "text/plain": [
       "'output\\n3D array \\n [[[ 0  1  2  3  4]\\n  [ 5  6  7  8  9]]\\n\\n [[10 11 12 13 14]\\n  [15 16 17 18 19]]]\\nShape     :  (2, 2, 5)\\nRank      :  3\\nSize      :  20\\nDatA Type :  int64\\n'"
      ]
     },
     "execution_count": 3,
     "metadata": {},
     "output_type": "execute_result"
    }
   ],
   "source": [
    "'''\n",
    "arange  : Return evenly spaced values within a given interval.     (doc words)\n",
    "reshape : Gives a new shape to an array without changing its data. (doc words)\n",
    "'''\n",
    "\n",
    "numbers = np.arange(10) # It will create a 1D numpy array\n",
    "print(numbers)          # 0,1,2,3,4,5,6,7,8,9\n",
    "print(numbers.dtype)    # int\n",
    "print(type(numbers))    # numpy.ndarray\n",
    "'''output\n",
    "[0 1 2 3 4 5 6 7 8 9]\n",
    "int64\n",
    "<class 'numpy.ndarray'>\n",
    "'''\n",
    "\n",
    "print('--------------------------------------------')\n",
    "\n",
    "reshape_number = numbers.reshape(2,5) # It'll create a 2D numpy array. \n",
    "print(reshape_number)        # [[0 1 2 3 4] [5 6 7 8 9]]\n",
    "print(reshape_number.dtype)  # int\n",
    "print(type(reshape_number))  # numpy.ndarray\n",
    "'''output\n",
    "[[0 1 2 3 4]\n",
    " [5 6 7 8 9]]\n",
    "int64\n",
    "<class 'numpy.ndarray'>\n",
    "'''\n",
    "\n",
    "print('--------------------------------------------')\n",
    "\n",
    "array2D = np.arange(20).reshape(4,5) # Create 2D array with shape (4,5) from 0 to 19 \n",
    "print('2D array \\n',array2D)         # 2D array | matrix\n",
    "print('Shape     : ', array2D.shape) # (4,5)\n",
    "print('Rank      : ', array2D.ndim)  # 2\n",
    "print('Size      : ', array2D.size)  # 20\n",
    "print('DatA Type : ', array2D.dtype) # int\n",
    "'''output\n",
    "2D array \n",
    " [[ 0  1  2  3  4]\n",
    " [ 5  6  7  8  9]\n",
    " [10 11 12 13 14]\n",
    " [15 16 17 18 19]]\n",
    "Shape     :  (4, 5)\n",
    "Rank      :  2\n",
    "Size      :  20\n",
    "DatA Type :  int64\n",
    "'''\n",
    "\n",
    "print('--------------------------------------------')\n",
    "\n",
    "array3D = np.arange(20).reshape(2, 2, 5) # Create 3D array with shape (2,2,5) from 0 to 19 \n",
    "print('3D array \\n',array3D)         # 2D array | matrix\n",
    "print('Shape     : ', array3D.shape) # (2, 2, 5) | (channel , width, height) ; we've two 2 by 5 matrix\n",
    "print('Rank      : ', array3D.ndim)  # 3\n",
    "print('Size      : ', array3D.size)  # 20\n",
    "print('DatA Type : ', array3D.dtype) # int\n",
    "'''output\n",
    "3D array \n",
    " [[[ 0  1  2  3  4]\n",
    "  [ 5  6  7  8  9]]\n",
    "\n",
    " [[10 11 12 13 14]\n",
    "  [15 16 17 18 19]]]\n",
    "Shape     :  (2, 2, 5)\n",
    "Rank      :  3\n",
    "Size      :  20\n",
    "DatA Type :  int64\n",
    "'''"
   ]
  },
  {
   "cell_type": "markdown",
   "metadata": {},
   "source": [
    "**NumPy** has a number of built in methods which help us quickly and easily create multidimensional arrays. We create a number of different size arrays with different shapes and different pre-filled values. "
   ]
  },
  {
   "cell_type": "code",
   "execution_count": 4,
   "metadata": {},
   "outputs": [
    {
     "name": "stdout",
     "output_type": "stream",
     "text": [
      "All Zeros \n",
      " [[0. 0.]\n",
      " [0. 0.]]\n",
      "--------------------------------------------\n",
      "All Ones \n",
      " [[1. 1.]]\n",
      "--------------------------------------------\n",
      "Filled with specified valued \n",
      " [[3 3]\n",
      " [3 3]]\n",
      "--------------------------------------------\n",
      "Identity Matrix \n",
      " [[1. 0.]\n",
      " [0. 1.]]\n",
      "--------------------------------------------\n",
      "Normal Distribution \n",
      " [[0.64609114 0.86967861]\n",
      " [0.44188741 0.77588286]]\n",
      "--------------------------------------------\n",
      "Evely spaced number in givend range \n",
      " [1.         1.22222222 1.44444444 1.66666667 1.88888889 2.11111111\n",
      " 2.33333333 2.55555556 2.77777778 3.        ]\n",
      "--------------------------------------------\n",
      "2D array \n",
      " [[1.         1.22222222 1.44444444 1.66666667 1.88888889]\n",
      " [2.11111111 2.33333333 2.55555556 2.77777778 3.        ]]\n",
      "Shape               :  (2, 5)\n",
      "Rank                :  2\n",
      "Size                :  10\n",
      "DatA Type           :  float64\n",
      "Converted Data Type :  int64\n",
      "2D array \n",
      " [[1 1 1 1 1]\n",
      " [2 2 2 2 3]]\n"
     ]
    }
   ],
   "source": [
    "all_zeros = np.zeros((2,2))   # Create an array of all zeros\n",
    "print('All Zeros \\n' ,all_zeros)     # Prints \"[[ 0.  0.]\n",
    "                                     #          [ 0.  0.]]\"\n",
    "\n",
    "print('--------------------------------------------')    \n",
    "    \n",
    "all_ones = np.ones((1,2))       # Create an array of all ones\n",
    "print('All Ones \\n', all_ones)  # Prints \"[[ 1.  1.]]\"\n",
    "\n",
    "print('--------------------------------------------')\n",
    "\n",
    "filled_array = np.full((2,2), 3)                          # Create a constant array\n",
    "print('Filled with specified valued \\n', filled_array)    # Prints \"[[ 3.  3.]\n",
    "                                                          #          [ 3.  3.]]\"\n",
    "print('--------------------------------------------')\n",
    "    \n",
    "identity_mat = np.eye(2)                   # Create a 2x2 identity matrix\n",
    "print('Identity Matrix \\n', identity_mat)  # Prints \"[[ 1.  0.]\n",
    "                                           #          [ 0.  1.]]\"\n",
    "\n",
    "print('--------------------------------------------')    \n",
    "    \n",
    "random_normal_distro = np.random.random((2,2))  # Create an array filled with random values\n",
    "print('Normal Distribution \\n', random_normal_distro)   \n",
    "\n",
    "print('--------------------------------------------')    \n",
    "\n",
    "evenly_spaced_ranged_number = np.linspace(1,3,10) # range 1 to 3, generate 10 digit with evely spaced\n",
    "print('Evely spaced number in givend range \\n', evenly_spaced_ranged_number)\n",
    "\n",
    "print('--------------------------------------------') \n",
    "\n",
    "linspace_reshape = np.linspace(1,3,10).reshape(2,5)\n",
    "print('2D array \\n',linspace_reshape)         # 2D array | matrix\n",
    "print('Shape               : ', linspace_reshape.shape) # (2, 5) \n",
    "print('Rank                : ', linspace_reshape.ndim)  # 2\n",
    "print('Size                : ', linspace_reshape.size)  # 10\n",
    "print('DatA Type           : ', linspace_reshape.dtype) # float\n",
    "print('Converted Data Type : ', linspace_reshape.astype('int64').dtype) # convert float to int \n",
    "print('2D array \\n',linspace_reshape.astype('int64')) # But this will truncated numbers after decimal"
   ]
  },
  {
   "cell_type": "markdown",
   "metadata": {},
   "source": [
    "<p style=\"font-family: Arial; font-size:1.75em;color:#2462C0; font-style:bold\"><br>Array Indexing</p><br>\n",
    "\n",
    "**Numpy** offers several ways to index into arrays. We may want to select a subset of our data or individual elements. Most common ways are:\n",
    "\n",
    "- Slicing\n",
    "- Integer Array Indexing / Fnacy Indexing\n",
    "- Boolean Indexing"
   ]
  },
  {
   "cell_type": "markdown",
   "metadata": {},
   "source": [
    "- **Slicing**\n",
    "Like in Python lists, NumPy arrays can be sliced."
   ]
  },
  {
   "cell_type": "code",
   "execution_count": 5,
   "metadata": {},
   "outputs": [
    {
     "name": "stdout",
     "output_type": "stream",
     "text": [
      "[[ 0  2  4  6  8]\n",
      " [10 12 14 16 18]\n",
      " [20 22 24 26 28]\n",
      " [30 32 34 36 38]]\n"
     ]
    },
    {
     "data": {
      "text/plain": [
       "'output\\n[[ 0  2  4  6  8]\\n [10 12 14 16 18]\\n [20 22 24 26 28]\\n [30 32 34 36 38]]\\n'"
      ]
     },
     "execution_count": 5,
     "metadata": {},
     "output_type": "execute_result"
    }
   ],
   "source": [
    "array2D = np.arange(0,40,2).reshape(4,5)\n",
    "print(array2D) # shape : (4,5)\n",
    "'''output\n",
    "[[ 0  2  4  6  8]\n",
    " [10 12 14 16 18]\n",
    " [20 22 24 26 28]\n",
    " [30 32 34 36 38]]\n",
    "'''"
   ]
  },
  {
   "cell_type": "code",
   "execution_count": 6,
   "metadata": {},
   "outputs": [
    {
     "name": "stdout",
     "output_type": "stream",
     "text": [
      "[[12 14]\n",
      " [22 24]]\n",
      "--------------------------------------------\n",
      "[[ 2  4  6]\n",
      " [12 14 16]\n",
      " [22 24 26]\n",
      " [32 34 36]]\n",
      "--------------------------------------------\n",
      "[[ 4  6  8]\n",
      " [14 16 18]\n",
      " [24 26 28]\n",
      " [34 36 38]]\n",
      "--------------------------------------------\n",
      "1 \n",
      " [[16 18]\n",
      " [26 28]]\n",
      "--------------------------------------------\n",
      "2 \n",
      " [[20 22 24]\n",
      " [30 32 34]]\n",
      "--------------------------------------------\n",
      "3 \n",
      " [[14 16]\n",
      " [24 26]\n",
      " [34 36]]\n"
     ]
    },
    {
     "data": {
      "text/plain": [
       "'output\\n3 \\n [[14 16]\\n [24 26]\\n [34 36]]\\n'"
      ]
     },
     "execution_count": 6,
     "metadata": {},
     "output_type": "execute_result"
    }
   ],
   "source": [
    "'''\n",
    "Use slicing to pull out the subarray from the orignial array.\n",
    "Le's say we want to get following sub-array from array2D.\n",
    "This located at row (1,2) and column (1,2).\n",
    "\n",
    "[12 14]\n",
    "[22 24]\n",
    "\n",
    "So, we need to do somthing like array2D[row-range, column-range]. Note that, \n",
    "while indexing we need to range 1 step more, as we do \n",
    "in np.arange(0,10) <- go 0 to 9 but not 10.\n",
    "\n",
    "'''\n",
    "# and columns 1 and 2; b is the following array of shape (2, 2):\n",
    "\n",
    "sliced_array_1 = array2D[1:3, 1:3] # look we set 1:3 <- go 1 to 2 but not include 3\n",
    "print(sliced_array_1)\n",
    "'''output\n",
    "[[12 14]\n",
    " [22 24]]\n",
    "'''\n",
    "\n",
    "print('--------------------------------------------') \n",
    "\n",
    "sliced_array_2 = array2D[:, 1:4] # The 'bare' slice [:] will asign to all values in an array\n",
    "print(sliced_array_2)\n",
    "'''output\n",
    "[[ 2  4  6]\n",
    " [12 14 16]\n",
    " [22 24 26]\n",
    " [32 34 36]]\n",
    "'''\n",
    "\n",
    "print('--------------------------------------------') \n",
    "\n",
    "sliced_array_3 = array2D[:4, 2:] # row: 0 to 3 ; column: 2 to all\n",
    "print(sliced_array_3)\n",
    "\n",
    "'''output\n",
    "[[ 4  6  8]\n",
    " [14 16 18]\n",
    " [24 26 28]\n",
    " [34 36 38]]\n",
    "'''\n",
    "\n",
    "\n",
    "\n",
    "'''\n",
    "More practice. array2D:\n",
    "\n",
    "[[ 0  2  4  6  8]\n",
    " [10 12 14 16 18]\n",
    " [20 22 24 26 28]\n",
    " [30 32 34 36 38]]\n",
    "\n",
    "Let's get some specific portion.\n",
    "\n",
    "1. [16 18],\n",
    "   [26 28]\n",
    "\n",
    "2. [20 22 24],\n",
    "   [30 32 34] \n",
    "   \n",
    "3. [14 16],\n",
    "   [24 26],\n",
    "   [34 36]\n",
    "'''\n",
    "\n",
    "print('--------------------------------------------') \n",
    "\n",
    "sliced_array_4 = array2D[1:3, 3:] # row: 1 to 2 ; column: 3 to all\n",
    "print('1 \\n', sliced_array_4)\n",
    "'''output\n",
    "1 \n",
    " [[16 18]\n",
    " [26 28]]\n",
    "'''\n",
    "\n",
    "print('--------------------------------------------') \n",
    "\n",
    "sliced_array_5 = array2D[2:, 0:3] # row: 2 to all ; column: 0 to 2\n",
    "print('2 \\n', sliced_array_5)\n",
    "'''output\n",
    "2 \n",
    " [[20 22 24]\n",
    " [30 32 34]]\n",
    "'''\n",
    "\n",
    "print('--------------------------------------------') \n",
    "\n",
    "sliced_array_6 = array2D[1:, 2:4] # row: 1 to all ; column: 2 to 3\n",
    "print('3 \\n', sliced_array_6)\n",
    "'''output\n",
    "3 \n",
    " [[14 16]\n",
    " [24 26]\n",
    " [34 36]]\n",
    "'''"
   ]
  },
  {
   "cell_type": "code",
   "execution_count": 7,
   "metadata": {},
   "outputs": [
    {
     "name": "stdout",
     "output_type": "stream",
     "text": [
      "Before \n",
      " [[16 18]\n",
      " [26 28]]\n",
      "After \n",
      " [[77 18]\n",
      " [26 28]]\n"
     ]
    },
    {
     "data": {
      "text/plain": [
       "'output\\nAfter \\n [[77 18]\\n [26 28]]\\n'"
      ]
     },
     "execution_count": 7,
     "metadata": {},
     "output_type": "execute_result"
    }
   ],
   "source": [
    "'''\n",
    "A slice of an array is a view into the same data, so modifying it\n",
    "will modify the original array.\n",
    "'''\n",
    "\n",
    "sliced_array_4 = array2D[1:3, 3:] # row: 1 to 2 ; column: 3 to all\n",
    "print('Before \\n', sliced_array_4)\n",
    "'''output\n",
    "Before \n",
    " [[16 18]\n",
    " [26 28]]\n",
    "'''\n",
    "\n",
    "sliced_array_4[0, 0] = 77  \n",
    "print('After \\n', sliced_array_4)  \n",
    "'''output\n",
    "After \n",
    " [[77 18]\n",
    " [26 28]]\n",
    "'''"
   ]
  },
  {
   "cell_type": "markdown",
   "metadata": {},
   "source": [
    "---\n",
    "\n",
    "- **Fancy Indexing**<br>\n",
    "Facny Indexing is a term adopted by NumPy to describe indexing using integer arrays."
   ]
  },
  {
   "cell_type": "code",
   "execution_count": 8,
   "metadata": {},
   "outputs": [
    {
     "data": {
      "text/plain": [
       "'output\\narray([[ 0,  1,  2,  3],\\n       [ 4,  5,  6,  7],\\n       [ 8,  9, 10, 11],\\n       [12, 13, 14, 15],\\n       [16, 17, 18, 19],\\n       [20, 21, 22, 23],\\n       [24, 25, 26, 27],\\n       [28, 29, 30, 31]])\\n'"
      ]
     },
     "execution_count": 8,
     "metadata": {},
     "output_type": "execute_result"
    }
   ],
   "source": [
    "'''\n",
    "To select out a subset of the rows in a particular order, we can simply pass a list or \n",
    "ndarray of integers specifying the desired order. Here is an example whose shape is \n",
    "(8,4). We would like to select out row 3,4,7 (randomly choosen)\n",
    "'''\n",
    "fancy_index = np.arange(32).reshape(8,4)\n",
    "fancy_index\n",
    "'''output\n",
    "array([[ 0,  1,  2,  3],\n",
    "       [ 4,  5,  6,  7],\n",
    "       [ 8,  9, 10, 11],\n",
    "       [12, 13, 14, 15],\n",
    "       [16, 17, 18, 19],\n",
    "       [20, 21, 22, 23],\n",
    "       [24, 25, 26, 27],\n",
    "       [28, 29, 30, 31]])\n",
    "'''"
   ]
  },
  {
   "cell_type": "code",
   "execution_count": 9,
   "metadata": {},
   "outputs": [
    {
     "data": {
      "text/plain": [
       "'output\\narray([[12, 13, 14, 15],\\n       [16, 17, 18, 19],\\n       [28, 29, 30, 31]])\\n'"
      ]
     },
     "execution_count": 9,
     "metadata": {},
     "output_type": "execute_result"
    }
   ],
   "source": [
    "fancy_index[ [3,4,7] ] # a list of row number | fancy indexing \n",
    "'''output\n",
    "array([[12, 13, 14, 15],\n",
    "       [16, 17, 18, 19],\n",
    "       [28, 29, 30, 31]])\n",
    "'''"
   ]
  },
  {
   "cell_type": "code",
   "execution_count": 10,
   "metadata": {},
   "outputs": [
    {
     "data": {
      "text/plain": [
       "'output\\narray([[ 4,  5,  6,  7],\\n       [ 8,  9, 10, 11],\\n       [24, 25, 26, 27]])\\n'"
      ]
     },
     "execution_count": 10,
     "metadata": {},
     "output_type": "execute_result"
    }
   ],
   "source": [
    "fancy_index[ [1,2,6] ] # a list of row number | fancy indexing \n",
    "'''output\n",
    "array([[ 4,  5,  6,  7],\n",
    "       [ 8,  9, 10, 11],\n",
    "       [24, 25, 26, 27]])\n",
    "'''"
   ]
  },
  {
   "cell_type": "code",
   "execution_count": 11,
   "metadata": {},
   "outputs": [
    {
     "data": {
      "text/plain": [
       "'output\\narray([[20, 21, 22, 23],\\n       [12, 13, 14, 15],\\n       [28, 29, 30, 31]])\\n'"
      ]
     },
     "execution_count": 11,
     "metadata": {},
     "output_type": "execute_result"
    }
   ],
   "source": [
    "fancy_index[ [-3,-5,-1] ] # a list of row number | fancy negative indexing \n",
    "'''output\n",
    "array([[20, 21, 22, 23],\n",
    "       [12, 13, 14, 15],\n",
    "       [28, 29, 30, 31]])\n",
    "'''"
   ]
  },
  {
   "cell_type": "code",
   "execution_count": 12,
   "metadata": {},
   "outputs": [
    {
     "data": {
      "text/plain": [
       "array([11, 16, 14])"
      ]
     },
     "execution_count": 12,
     "metadata": {},
     "output_type": "execute_result"
    }
   ],
   "source": [
    "'''\n",
    "let's observe if we pass two list what will happen. Generally it selects an one dimentional\n",
    "array of elements corresponding to each tuple of indices. For example: if we do like:\n",
    "\n",
    "fancy_index[[2,4,3], [3,0,2]]\n",
    " \n",
    "Here (2,3), (4,0), (3,2) would be selected. In simple words, (2,3) here 2 represent the row\n",
    "number and 3 represent the index value of that row.\n",
    "\n",
    "\n",
    "fancy_index = [[ 0,  1,  2,  3],\n",
    "       [ 4,  5,  6,  7],\n",
    "       [ 8,  9, 10, 11],\n",
    "       [12, 13, 14, 15],\n",
    "       [16, 17, 18, 19],\n",
    "       [20, 21, 22, 23],\n",
    "       [24, 25, 26, 27],\n",
    "       [28, 29, 30, 31]]\n",
    "       \n",
    "tuple (2,3) : 11\n",
    "tuple (4,0) : 16\n",
    "tuple (3,2) : 14\n",
    "  \n",
    "'''\n",
    "fancy_index[[2,4,3], [3,0,2]] # array([11, 16, 14])"
   ]
  },
  {
   "cell_type": "markdown",
   "metadata": {},
   "source": [
    "**Note**: Regardless of how many dimensions the array has, the result of fancy indexng is always one-dimensional."
   ]
  },
  {
   "cell_type": "markdown",
   "metadata": {},
   "source": [
    "---\n",
    "\n",
    "- **Boolean Indexing**<br>"
   ]
  },
  {
   "cell_type": "code",
   "execution_count": 13,
   "metadata": {},
   "outputs": [
    {
     "name": "stdout",
     "output_type": "stream",
     "text": [
      "[[ 0  1  2  3  4  5  6  7]\n",
      " [ 8  9 10 11 12 13 14 15]\n",
      " [16 17 18 19 20 21 22 23]\n",
      " [24 25 26 27 28 29 30 31]]\n"
     ]
    },
    {
     "data": {
      "text/plain": [
       "'output\\n[[ 0  1  2  3  4  5  6  7]\\n [ 8  9 10 11 12 13 14 15]\\n [16 17 18 19 20 21 22 23]\\n [24 25 26 27 28 29 30 31]]\\n'"
      ]
     },
     "execution_count": 13,
     "metadata": {},
     "output_type": "execute_result"
    }
   ],
   "source": [
    "bool_index = np.arange(32).reshape(4,8)\n",
    "print(bool_index)\n",
    "'''output\n",
    "[[ 0  1  2  3  4  5  6  7]\n",
    " [ 8  9 10 11 12 13 14 15]\n",
    " [16 17 18 19 20 21 22 23]\n",
    " [24 25 26 27 28 29 30 31]]\n",
    "'''"
   ]
  },
  {
   "cell_type": "code",
   "execution_count": 14,
   "metadata": {},
   "outputs": [
    {
     "data": {
      "text/plain": [
       "'output\\narray([[ True,  True,  True,  True,  True,  True,  True,  True],\\n       [ True,  True,  True,  True,  True,  True,  True,  True],\\n       [ True,  True,  True,  True, False, False, False, False],\\n       [False, False, False, False, False, False, False, False]])\\n'"
      ]
     },
     "execution_count": 14,
     "metadata": {},
     "output_type": "execute_result"
    }
   ],
   "source": [
    "bool_index < 20 # boolean expression\n",
    "'''output\n",
    "array([[ True,  True,  True,  True,  True,  True,  True,  True],\n",
    "       [ True,  True,  True,  True,  True,  True,  True,  True],\n",
    "       [ True,  True,  True,  True, False, False, False, False],\n",
    "       [False, False, False, False, False, False, False, False]])\n",
    "'''"
   ]
  },
  {
   "cell_type": "code",
   "execution_count": 15,
   "metadata": {},
   "outputs": [
    {
     "data": {
      "text/plain": [
       "'output\\narray([ 0,  1,  2,  3,  4,  5,  6,  7,  8,  9, 10, 11, 12, 13, 14, 15, 16,\\n       17, 18, 19])\\n'"
      ]
     },
     "execution_count": 15,
     "metadata": {},
     "output_type": "execute_result"
    }
   ],
   "source": [
    "'''\n",
    "The often we use such operaton when we do thresholding on the data. We can use these \n",
    "operation as an index and can get the result based on the expression. Let's see some\n",
    "of the examples.\n",
    "'''\n",
    "bool_index[ bool_index < 20 ] # only get the values which is less than 20\n",
    "'''output\n",
    "array([ 0,  1,  2,  3,  4,  5,  6,  7,  8,  9, 10, 11, 12, 13, 14, 15, 16,\n",
    "       17, 18, 19])\n",
    "'''"
   ]
  },
  {
   "cell_type": "code",
   "execution_count": 16,
   "metadata": {},
   "outputs": [
    {
     "name": "stdout",
     "output_type": "stream",
     "text": [
      "[ 0  2  4  6  8 10 12 14 16 18 20 22 24 26 28 30]\n",
      "[ 1  3  5  7  9 11 13 15 17 19 21 23 25 27 29 31]\n",
      "[ 1  3  5  7  9 11 13 15 17 19 21 23 25 27 29 31]\n",
      "45\n",
      "False\n",
      "True\n"
     ]
    }
   ],
   "source": [
    "'''\n",
    "let's see some various example of using this.\n",
    "'''\n",
    "print(bool_index[ bool_index % 2 == 0 ])      # [ 0  2  4 ... 28 30]\n",
    "print(bool_index[ bool_index % 2 != 0 ])      # [ 1  3  5  ... 29 31]\n",
    "print(bool_index[ bool_index % 2 == 0 ] + 1)  # [ 1  3  5  ... 29 31]\n",
    "'''output\n",
    "[ 0  2  4  6  8 10 12 14 16 18 20 22 24 26 28 30]\n",
    "[ 1  3  5  7  9 11 13 15 17 19 21 23 25 27 29 31]\n",
    "[ 1  3  5  7  9 11 13 15 17 19 21 23 25 27 29 31]\n",
    "'''\n",
    "\n",
    "\n",
    "\n",
    "'''\n",
    "Methods for Boolean array are 1 (True) and 0 (False). In these case some usefull methods are:\n",
    "\n",
    "- sum() | counting the True values\n",
    "- any() | test whether one or more values in an array is True\n",
    "- all() | checks if every value is True\n",
    "\n",
    "'''\n",
    "print(bool_index[ bool_index < 10 ].sum()) # 45\n",
    "print(bool_index[ bool_index < 10 ].all()) # False\n",
    "print(bool_index[ bool_index < 10 ].any()) # True"
   ]
  },
  {
   "cell_type": "markdown",
   "metadata": {},
   "source": [
    "**Indexing using `where(condition, [x, y])`**"
   ]
  },
  {
   "cell_type": "code",
   "execution_count": 17,
   "metadata": {},
   "outputs": [
    {
     "name": "stdout",
     "output_type": "stream",
     "text": [
      "[ 1 22  3 44  5]\n"
     ]
    }
   ],
   "source": [
    "arx = np.array([1,2,3,4,5])\n",
    "ary = np.array([11,22,33,44,55])\n",
    "\n",
    "filter = np.array([True, False, True, False, True])\n",
    "\n",
    "out = np.where(filter, arx, ary)\n",
    "print(out) # [ 1 22  3 44  5]"
   ]
  },
  {
   "cell_type": "code",
   "execution_count": 18,
   "metadata": {
    "scrolled": true
   },
   "outputs": [
    {
     "name": "stdout",
     "output_type": "stream",
     "text": [
      "[[0.00130205 0.61188613 0.81656965 0.97445805 0.78154856]\n",
      " [0.51502097 0.8560138  0.69596501 0.65184602 0.22729479]\n",
      " [0.02518219 0.52348343 0.40938401 0.69805286 0.67975566]\n",
      " [0.80848624 0.39656759 0.17826131 0.06181285 0.12511895]\n",
      " [0.86846137 0.49787302 0.89109703 0.79060537 0.77698939]]\n"
     ]
    },
    {
     "data": {
      "text/plain": [
       "'output\\narray([[1000,   -1,   -1,   -1, 1000],\\n       [1000,   -1,   -1, 1000,   -1],\\n       [1000,   -1, 1000, 1000, 1000],\\n       [  -1,   -1,   -1, 1000, 1000],\\n       [  -1, 1000,   -1,   -1,   -1]])\\n'"
      ]
     },
     "execution_count": 18,
     "metadata": {},
     "output_type": "execute_result"
    }
   ],
   "source": [
    "mat = np.random.rand(5,5)\n",
    "print(mat)\n",
    "'''output\n",
    "[[0.75961013 0.26437703 0.38670089 0.45042377 0.89735447]\n",
    " [0.90111231 0.19172774 0.27427801 0.72230241 0.46797088]\n",
    " [0.98030653 0.09138688 0.62995209 0.94627245 0.59041074]\n",
    " [0.05558522 0.33889589 0.44382129 0.61814205 0.8122214 ]\n",
    " [0.16439016 0.87836497 0.01341273 0.35888597 0.21486541]]\n",
    "'''\n",
    "\n",
    "\n",
    "np.where( mat > 0.5, 1000, -1) # if condition true, set 1000 else -1\n",
    "'''output\n",
    "array([[1000,   -1,   -1,   -1, 1000],\n",
    "       [1000,   -1,   -1, 1000,   -1],\n",
    "       [1000,   -1, 1000, 1000, 1000],\n",
    "       [  -1,   -1,   -1, 1000, 1000],\n",
    "       [  -1, 1000,   -1,   -1,   -1]])\n",
    "'''"
   ]
  },
  {
   "cell_type": "code",
   "execution_count": null,
   "metadata": {},
   "outputs": [],
   "source": []
  },
  {
   "cell_type": "markdown",
   "metadata": {},
   "source": [
    "<p style=\"font-family: Arial; font-size:1.75em;color:#2462C0; font-style:bold\"><br>Math and Statistical Operation</p><br>\n",
    "\n",
    "Basic mathematical functions operate elementwise on arrays."
   ]
  },
  {
   "cell_type": "code",
   "execution_count": 19,
   "metadata": {},
   "outputs": [
    {
     "name": "stdout",
     "output_type": "stream",
     "text": [
      "[[ 5.  7.]\n",
      " [ 9. 11.]]\n",
      "[[ 5.  7.]\n",
      " [ 9. 11.]]\n",
      "----------------------------\n",
      "[[-5. -5.]\n",
      " [-5. -5.]]\n",
      "[[-5. -5.]\n",
      " [-5. -5.]]\n",
      "----------------------------\n",
      "[[ 0.  6.]\n",
      " [14. 24.]]\n",
      "[[ 0.  6.]\n",
      " [14. 24.]]\n",
      "----------------------------\n",
      "[[0.         0.16666667]\n",
      " [0.28571429 0.375     ]]\n",
      "[[0.         0.16666667]\n",
      " [0.28571429 0.375     ]]\n",
      "----------------------------\n",
      "[[0.         1.        ]\n",
      " [1.41421356 1.73205081]]\n"
     ]
    },
    {
     "data": {
      "text/plain": [
       "'output\\n[[0.         1.        ]\\n [1.41421356 1.73205081]]\\n'"
      ]
     },
     "execution_count": 19,
     "metadata": {},
     "output_type": "execute_result"
    }
   ],
   "source": [
    "x = np.arange(0,4).reshape(2,2).astype('float64')\n",
    "y = np.arange(5,9).reshape(2,2).astype('float64')\n",
    "\n",
    "# Elementwise sum; both produce the array\n",
    "print(x + y)\n",
    "print(np.add(x, y))\n",
    "'''output\n",
    "[[ 5.  7.]\n",
    " [ 9. 11.]]\n",
    "[[ 5.  7.]\n",
    " [ 9. 11.]]\n",
    "'''\n",
    "\n",
    "print('----------------------------')\n",
    "\n",
    "# Elementwise difference; both produce the array\n",
    "print(x - y)\n",
    "print(np.subtract(x, y))\n",
    "'''output\n",
    "[[-5. -5.]\n",
    " [-5. -5.]]\n",
    "[[-5. -5.]\n",
    " [-5. -5.]]\n",
    "'''\n",
    "\n",
    "\n",
    "print('----------------------------')\n",
    "\n",
    "# Elementwise product; both produce the array\n",
    "print(x * y)\n",
    "print(np.multiply(x, y))\n",
    "'''output\n",
    "[[ 0.  6.]\n",
    " [14. 24.]]\n",
    "[[ 0.  6.]\n",
    " [14. 24.]]\n",
    "'''\n",
    "\n",
    "print('----------------------------')\n",
    "\n",
    "# Elementwise division; both produce the array\n",
    "print(x / y)\n",
    "print(np.divide(x, y))\n",
    "'''output\n",
    "[[0.         0.16666667]\n",
    " [0.28571429 0.375     ]]\n",
    "[[0.         0.16666667]\n",
    " [0.28571429 0.375     ]]\n",
    "'''\n",
    "\n",
    "print('----------------------------')\n",
    "\n",
    "# Elementwise square root; produces the array\n",
    "print(np.sqrt(x))\n",
    "'''output\n",
    "[[0.         1.        ]\n",
    " [1.41421356 1.73205081]]\n",
    "'''"
   ]
  },
  {
   "cell_type": "code",
   "execution_count": 20,
   "metadata": {},
   "outputs": [
    {
     "name": "stdout",
     "output_type": "stream",
     "text": [
      "19\n",
      "19\n",
      "----------------------------\n",
      "[ 1. 13.]\n",
      "[ 1. 13.]\n",
      "----------------------------\n",
      "[[ 7.  8.]\n",
      " [31. 36.]]\n",
      "[[ 7.  8.]\n",
      " [31. 36.]]\n"
     ]
    }
   ],
   "source": [
    "'''\n",
    "We use the dot function to compute inner products of vectors, to multiply a vector \n",
    "by a matrix, and to multiply matrices. dot is available both as a function in the numpy\n",
    "module and as an instance method of array objects. Note that, * is elementwise \n",
    "multiplication, not matrix multiplication. \n",
    "'''\n",
    "\n",
    "x = np.arange(0,4).reshape(2,2).astype('float64')\n",
    "y = np.arange(5,9).reshape(2,2).astype('float64')\n",
    "\n",
    "v = np.array([5,1])\n",
    "w = np.array([3, 4])\n",
    "\n",
    "# Inner product of vectors; both produce 19\n",
    "print(v.dot(w))     # 19\n",
    "print(np.dot(v, w)) # 19\n",
    "\n",
    "print('----------------------------')\n",
    "\n",
    "# Matrix / vector product; both produce the rank 1 array [1 13]\n",
    "print(x.dot(v))\n",
    "print(np.dot(x, v))\n",
    "# [ 1. 13.]\n",
    "# [ 1. 13.]\n",
    "\n",
    "print('----------------------------')\n",
    "\n",
    "# Matrix / matrix product; both produce the rank 2 array\n",
    "print(x.dot(y))\n",
    "print(np.dot(x, y))\n",
    "# [[ 7.  8.]\n",
    "# [31. 36.]]\n",
    "\n",
    "# [[ 7.  8.]\n",
    "# [31. 36.]]"
   ]
  },
  {
   "cell_type": "code",
   "execution_count": 21,
   "metadata": {},
   "outputs": [
    {
     "name": "stdout",
     "output_type": "stream",
     "text": [
      "[[5 6]\n",
      " [7 8]]\n",
      "26\n",
      "[12 14]\n",
      "[11 15]\n"
     ]
    }
   ],
   "source": [
    "'''\n",
    "Numpy provides many useful functions for performing computations on arrays;\n",
    "one of the most useful is sum\n",
    "'''\n",
    "\n",
    "import numpy as np\n",
    "\n",
    "x = np.arange(5,9).reshape(2,2).astype('int64')\n",
    "\n",
    "print(x)\n",
    "print(np.sum(x))          # Compute sum of all elements; prints \"26\"\n",
    "print(np.sum(x, axis=0))  # Compute sum of each column; prints \"[12 14]\"\n",
    "print(np.sum(x, axis=1))  # Compute sum of each row; prints \"[11 15]\""
   ]
  },
  {
   "cell_type": "code",
   "execution_count": 22,
   "metadata": {},
   "outputs": [
    {
     "name": "stdout",
     "output_type": "stream",
     "text": [
      "At first \n",
      " [[0 1 2 3 4]\n",
      " [5 6 7 8 9]]\n",
      "\n",
      "After transpose \n",
      " [[0 5]\n",
      " [1 6]\n",
      " [2 7]\n",
      " [3 8]\n",
      " [4 9]]\n",
      "----------------------------\n",
      "[[25 30 35 40 45]\n",
      " [30 37 44 51 58]\n",
      " [35 44 53 62 71]\n",
      " [40 51 62 73 84]\n",
      " [45 58 71 84 97]]\n"
     ]
    }
   ],
   "source": [
    "'''\n",
    "Sometimes we need to manipulate the data in array. It can be done by reshaping or transpose\n",
    "the array. Transposing is a special form of reshaping that similarly returns a view on the \n",
    "underlying data without copying anything. \n",
    "\n",
    "When doing matrix computation, we may do this very often.\n",
    "'''\n",
    "\n",
    "arr = np.arange(10).reshape(2,5)\n",
    "print('At first \\n', arr)   # At first \n",
    "                            #  [[0 1 2 3 4]\n",
    "                            #  [5 6 7 8 9]]\n",
    "print()\n",
    "print('After transpose \\n', arr.T)\n",
    "# After transpose \n",
    "#  [[0 5]\n",
    "#  [1 6]\n",
    "#  [2 7]\n",
    "#  [3 8]\n",
    "#  [4 9]]\n",
    "\n",
    "print('----------------------------')\n",
    "transpose = np.arange(10).reshape(2,5)\n",
    "print(np.dot(transpose.T, transpose)) # (5x2).(2,5) | matrix multiplication\n",
    "# [[25 30 35 40 45]\n",
    "#  [30 37 44 51 58]\n",
    "#  [35 44 53 62 71]\n",
    "#  [40 51 62 73 84]\n",
    "#  [45 58 71 84 97]]"
   ]
  },
  {
   "cell_type": "code",
   "execution_count": 23,
   "metadata": {},
   "outputs": [
    {
     "name": "stdout",
     "output_type": "stream",
     "text": [
      "Mean   :  -5.335632555625546\n",
      "STD    :  8.09983543532644\n",
      "Median :  -7.507170043685229\n",
      "Argmin :  7\n",
      "Argmax :  5\n",
      "Max    :  8.975973966339764\n",
      "Min    :  -19.81438021812959\n",
      "Compute mean by column : [ -0.59505187  -4.36908074 -13.61092129   2.53436439 -10.63747326]\n",
      "Compute median by row  :  [-7.40746237 -7.60687772]\n"
     ]
    }
   ],
   "source": [
    "'''\n",
    "statistical functions and concern used function, such as \n",
    "\n",
    "- mean\n",
    "- min\n",
    "- sum\n",
    "- std\n",
    "- median\n",
    "- argmin, argmax\n",
    "'''\n",
    "\n",
    "ary = 10 * np.random.randn(2,5)\n",
    "print('Mean   : ', np.mean(ary))     # 0.9414738037734729\n",
    "print('STD    : ', np.std(ary))      # 5.897885490589387\n",
    "print('Median : ', np.median(ary))   # 1.5337461352996276\n",
    "print('Argmin : ', np.argmin(ary))   # 3\n",
    "print('Argmax : ', np.argmax(ary))   # 2\n",
    "print('Max    : ', np.max(ary))      # 10.399663734487659\n",
    "print('Min    : ', np.min(ary))      # -9.849839643044087\n",
    "print('Compute mean by column :', np.mean(ary, axis = 0)) # compute the means by column\n",
    "# Compute mean by column : [-1.61785449  0.4643941   8.24396096 -6.32814416  3.94501261]\n",
    "print('Compute median by row  : ', np.median(ary, axis = 1)) # compute the medians\n",
    "# Compute median by row  :  [2.7236133  0.34387897]"
   ]
  },
  {
   "cell_type": "markdown",
   "metadata": {},
   "source": [
    "<p style=\"font-family: Arial; font-size:1.75em;color:#2462C0; font-style:bold\"><br>Universal Functions</p><br>\n",
    "\n",
    "A universal functions or ufunc is a special function that performs element-wise operations on the data in ndarrays. Such as fast vectorized wrapper for simple functions that take one or more scalar values and produce one or more scalar results. Many ufuncs are simple element-wise transformation, like `sqrt` or ` exp`."
   ]
  },
  {
   "cell_type": "code",
   "execution_count": 24,
   "metadata": {},
   "outputs": [
    {
     "name": "stdout",
     "output_type": "stream",
     "text": [
      "Find root of each elements-wise \n",
      " [0.         1.         1.41421356 1.73205081 2.        ]\n",
      "\n",
      "Find exponential for each element-wise \n",
      " [ 1.          2.71828183  7.3890561  20.08553692 54.59815003]\n",
      "\n",
      "Max values between two array \n",
      " [ 1.          2.71828183  7.3890561  20.08553692 54.59815003]\n",
      "----------------------------\n",
      "\n",
      "Floating Number  [ 1.          2.71828183  7.3890561  20.08553692 54.59815003]\n",
      "\n",
      "Remainder        [0.         0.71828183 0.3890561  0.08553692 0.59815003]\n",
      "Number           [ 1.  2.  7. 20. 54.]\n",
      "----------------------------\n",
      "\n",
      "[-1.7 -1.5 -0.2  0.2  1.5  1.7  2. ]\n",
      "[-1. -1. -0.  1.  2.  2.  2.]\n",
      "[-2. -2. -0.  0.  2.  2.  2.]\n",
      "----------------------------\n",
      "\n",
      "Absolute of Real Values               [1 2]\n",
      "Absolute of Real Values with Float    [1. 2.]\n",
      "Absolute of Complex Values           1.5620499351813308\n"
     ]
    }
   ],
   "source": [
    "ary = np.arange(5)\n",
    "\n",
    "print('Find root of each elements-wise \\n', np.sqrt(ary))\n",
    "print()\n",
    "print('Find exponential for each element-wise \\n', np.exp(ary))\n",
    "\n",
    "# Find root of each elements-wise \n",
    "#  [0.         1.         1.41421356 1.73205081 2.        ]\n",
    "\n",
    "# Find exponential for each element-wise \n",
    "#  [ 1.          2.71828183  7.3890561  20.08553692 54.59815003]\n",
    "\n",
    "\n",
    "'''\n",
    "np.maximum\n",
    "\n",
    "This computed the element-wise maximum of the elements in two array and returned a single \n",
    "array as a result.\n",
    "'''\n",
    "print()\n",
    "print('Max values between two array \\n', np.maximum(np.sqrt(ary), np.exp(ary)))\n",
    "print('----------------------------')\n",
    "print()\n",
    "# Max values between two array \n",
    "#  [ 1.          2.71828183  7.3890561  20.08553692 54.59815003]\n",
    "\n",
    "\n",
    "'''\n",
    "np.modf\n",
    "\n",
    "Another unfunc but can return multiple arrays. It returns the fractional and integral parts \n",
    "of a floating point array.\n",
    "'''\n",
    "rem, num = np.modf(np.exp(ary))\n",
    "print('Floating Number ', np.exp(ary))\n",
    "print()\n",
    "print('Remainder       ', rem)\n",
    "print('Number          ', num)\n",
    "print('----------------------------')\n",
    "print()\n",
    "\n",
    "# Floating Number  [ 1.         2.71828183  7.3890561  20.08553692 54.59815003]\n",
    "\n",
    "# Remainder        [0.         0.71828183 0.3890561  0.08553692 0.59815003]\n",
    "# Number           [ 1.  2.  7. 20. 54.]\n",
    "\n",
    "\n",
    "\n",
    "'''\n",
    "np.ceil\n",
    "\n",
    "Return the ceiling of the input, element-wise.\n",
    "'''\n",
    "ceil_num = np.array([-1.7, -1.5, -0.2, 0.2, 1.5, 1.7, 2.0])\n",
    "print(ceil_num)                # [-1.7 -1.5 -0.2  0.2  1.5  1.7  2. ]\n",
    "print(np.ceil(ceil_num))       # [-1. -1. -0.  1.  2.  2.  2.]\n",
    "\n",
    "\n",
    "''' not ufunc\n",
    "\n",
    "np.around\n",
    "\n",
    "Evenly round to the given number of decimals.\n",
    "'''\n",
    "print(np.around(ceil_num))    # [-2. -2. -0.  0.  2.  2.  2.]\n",
    "print('----------------------------')\n",
    "print()\n",
    "\n",
    "'''\n",
    "np.absolute | np.abs | np.fabs\n",
    "\n",
    "Calculate the absolute value element-wise.\n",
    "'''\n",
    "absl = np.array([-1, 2])\n",
    "print('Absolute of Real Values              ', np.abs(absl))\n",
    "print('Absolute of Real Values with Float   ', np.fabs(absl))\n",
    "print('Absolute of Complex Values          ', np.abs(1.2 + 1j))\n",
    "\n",
    "# Absolute of Real Values               [1 2]\n",
    "# Absolute of Real Values with Float    [1. 2.]\n",
    "# Absolute of Complex Values           1.5620499351813308"
   ]
  },
  {
   "cell_type": "markdown",
   "metadata": {},
   "source": [
    "---\n",
    "\n",
    "<p style=\"font-family: Arial; font-size:1.75em;color:#2462C0; font-style:bold\"><br>NumPy Random</p><br>\n",
    "\n",
    "- np.random.rand\n",
    "- np.random.randn\n",
    "- np.random.random\n",
    "- np.random.random_sample\n",
    "- np.random.randint\n",
    "\n",
    "- np.random.normal\n",
    "- np.ranodm.uniform\n",
    "- np.random.seed\n",
    "- np.random.shuffle\n",
    "- np.random.choice"
   ]
  },
  {
   "cell_type": "code",
   "execution_count": 25,
   "metadata": {},
   "outputs": [
    {
     "name": "stdout",
     "output_type": "stream",
     "text": [
      "np.random.rand() \n",
      " [[0.55094699 0.61238167]\n",
      " [0.26608784 0.29214291]\n",
      " [0.69588066 0.28535539]\n",
      " [0.45613936 0.41822787]\n",
      " [0.44847302 0.67555346]]\n",
      "----------------------------\n",
      "\n",
      "1D array: np.random.randn() \n",
      " [ 1.13204947 -1.66378404  0.75936891 -0.47352799  0.64239676  0.42043522]\n",
      "2D array: np.random.randn() \n",
      " [[-0.28349728 -1.00318228  0.53157892]\n",
      " [ 1.03549163 -0.17072524 -1.4363159 ]\n",
      " [ 0.71092646 -0.8575305  -0.79499979]]\n",
      "----------------------------\n",
      "\n",
      "np.random.randn() \n",
      " [[0.52406923 0.99575498 0.35206789]\n",
      " [0.37646092 0.84825033 0.11700386]\n",
      " [0.55466916 0.3683915  0.12921485]]\n",
      "np.random.random_sample() \n",
      " [[0.02301325 0.45993064 0.41587527]\n",
      " [0.65257846 0.94706172 0.40290819]\n",
      " [0.20296816 0.83054246 0.32817939]]\n",
      "----------------------------\n",
      "\n",
      "np.random.randint() \n",
      " [[2 3 2 4 2]\n",
      " [2 4 4 4 5]\n",
      " [2 2 3 3 5]\n",
      " [5 2 2 5 2]\n",
      " [2 4 5 3 4]]\n",
      "np.random.randint() : 4\n"
     ]
    }
   ],
   "source": [
    "'''\n",
    "np.random.rand()\n",
    "\n",
    "Create an array of the given shape and populate it with\n",
    "random samples from a uniform distribution\n",
    "over ``[0, 1)``\n",
    "'''\n",
    "ary = np.random.rand(5,2) # shape: 5 row, 2 column\n",
    "print('np.random.rand() \\n', ary)\n",
    "print('----------------------------')\n",
    "print()\n",
    "\n",
    "'''\n",
    "np.random.randn\n",
    "\n",
    "Return a sample (or samples) from the \"standard normal\" distribution.\n",
    "'''\n",
    "ary = np.random.randn(6)\n",
    "print('1D array: np.random.randn() \\n', ary)\n",
    "ary = np.random.randn(3,3)\n",
    "print('2D array: np.random.randn() \\n', ary)\n",
    "print('----------------------------')\n",
    "print()\n",
    "\n",
    "'''\n",
    "np.random.random. \n",
    "numpy.random.random() is actually an alias for numpy.random.random_sample()\n",
    "\n",
    "Return a sample (or samples) from the \"standard normal\" distribution.\n",
    "'''\n",
    "ary = np.random.random((3,3))\n",
    "print('np.random.randn() \\n', ary)\n",
    "ary = np.random.random_sample((3,3))\n",
    "print('np.random.random_sample() \\n', ary)\n",
    "print('----------------------------')\n",
    "print()\n",
    "\n",
    "'''\n",
    "np.random.randint. \n",
    "Return random integers from low (inclusive) to high (exclusive)\n",
    "\n",
    "Return random integers from the “discrete uniform” distribution of the specified \n",
    "dtype in the “half-open” interval [low, high). If high is None (the default), \n",
    "then results are from [0, low).\n",
    "\n",
    "'''\n",
    "ary = np.random.randint(low = 2, high = 6, size = (5,5))\n",
    "print('np.random.randint() \\n', ary)\n",
    "ary = np.random.randint(low = 2, high = 6)\n",
    "print('np.random.randint() :', ary)"
   ]
  },
  {
   "cell_type": "markdown",
   "metadata": {},
   "source": [
    "---\n",
    "\n",
    "**Note**: `np.random.rand()` vs `np.random.random_samples()`\n",
    "\n",
    "Both functions generate samples from the uniform distribution on 0, 1). The only difference is in how the arguments are handled. With `numpy.random.rand`, the length of each dimension of the output array is a separate argument. With `numpy.random.random_sample`, the shape argument is a single tuple."
   ]
  },
  {
   "cell_type": "code",
   "execution_count": 26,
   "metadata": {},
   "outputs": [
    {
     "name": "stdout",
     "output_type": "stream",
     "text": [
      "np.random.normal() \n",
      " [-0.04331232  0.08852014  0.02700918 -0.03466447  0.02897117  0.01905231\n",
      "  0.01245069  0.1037221   0.12891169  0.06164933]\n",
      "----------------------------\n",
      "\n",
      "np.random.uniform() \n",
      " [-0.02229202 -0.4628001  -0.69672588 -0.0584059  -0.39434806 -0.03984935\n",
      " -0.70193723 -0.09344746 -0.88634446 -0.02888323]\n",
      "----------------------------\n",
      "\n",
      "Before Shuffling \n",
      " [[0 1 2]\n",
      " [3 4 5]\n",
      " [6 7 8]]\n",
      "After Shuffling \n",
      " [[3 4 5]\n",
      " [0 1 2]\n",
      " [6 7 8]]\n",
      "----------------------------\n",
      "\n",
      "np.random.choice() \n",
      " [1 3 0]\n"
     ]
    }
   ],
   "source": [
    "'''\n",
    "np.random.normal()\n",
    "\n",
    "Draw random samples from a normal (Gaussian) distribution. This is Distribution is \n",
    "also known as Bell Curve because of its characteristics shape.\n",
    "'''\n",
    "mu, sigma = 0, 0.1 # mean and standard deviation\n",
    "print('np.random.normal() \\n',np.random.normal(mu, sigma, 10)) # from doc\n",
    "print('----------------------------')\n",
    "print()\n",
    "\n",
    "'''\n",
    "np.random.uniform()\n",
    "\n",
    "Draw samples from a uniform distribution\n",
    "'''\n",
    "print('np.random.uniform() \\n', np.random.uniform(-1,0,10))\n",
    "print('----------------------------')\n",
    "print()\n",
    "\n",
    "'''\n",
    "np.random.seed()\n",
    "'''\n",
    "np.random.seed(3) # seed the result\n",
    "\n",
    "'''\n",
    "np.random.shuffle\n",
    "\n",
    "Modify a sequence in-place by shuffling its contents\n",
    "'''\n",
    "\n",
    "ary = np.arange(9).reshape((3, 3))\n",
    "print('Before Shuffling \\n', ary)\n",
    "\n",
    "np.random.shuffle(ary)\n",
    "print('After Shuffling \\n', ary)\n",
    "print('----------------------------')\n",
    "print()\n",
    "\n",
    "'''\n",
    "np.random.choice\n",
    "\n",
    "Generates a random sample from a given 1-D array\n",
    "'''\n",
    "ary = np.random.choice(5, 3) # Generate a uniform random sample from np.arange(5) of size 3:\n",
    "print('np.random.choice() \\n', ary) # This is equivalent to np.random.randint(0,5,3)"
   ]
  },
  {
   "cell_type": "markdown",
   "metadata": {},
   "source": [
    "Some used functions:\n",
    "\n",
    "- sort()\n",
    "- unique()\n",
    "- vstack() and hstack()\n",
    "- ravel()\n",
    "- tile()\n",
    "- concatenate()"
   ]
  },
  {
   "cell_type": "code",
   "execution_count": 27,
   "metadata": {},
   "outputs": [
    {
     "name": "stdout",
     "output_type": "stream",
     "text": [
      "Unsorted \n",
      " [ 0.1841282  -1.00595517 -0.34198034 -0.04472413  0.27844092 -0.58089402\n",
      " -0.15151488 -1.14743417 -0.61100002 -1.18951737]\n",
      "Sorted \n",
      " [-1.18951737 -1.14743417 -1.00595517 -0.61100002 -0.58089402 -0.34198034\n",
      " -0.15151488 -0.04472413  0.1841282   0.27844092]\n",
      "\n",
      "----------------------------------\n",
      "Unique values :  [1 2 4]\n",
      "\n",
      "----------------------------------\n",
      "Vertical Stack \n",
      " [[1 2 3]\n",
      " [3 4 5]\n",
      " [4 5 6]\n",
      " [7 8 9]]\n",
      "Horizontal Stack \n",
      " [[1 2 3 4 5 6]\n",
      " [3 4 5 7 8 9]]\n",
      "Concate along columns \n",
      " [[1 2 3]\n",
      " [3 4 5]\n",
      " [4 5 6]\n",
      " [7 8 9]]\n",
      "Concate along rows \n",
      " [[1 2 3 4 5 6]\n",
      " [3 4 5 7 8 9]]\n",
      "\n",
      "----------------------------------\n",
      "Ravel \n",
      " [1 2 3 3 4 5]\n",
      "\n",
      "----------------------------------\n",
      "tile array \n",
      " [[-1  0  1]\n",
      " [-1  0  1]\n",
      " [-1  0  1]\n",
      " [-1  0  1]]\n"
     ]
    }
   ],
   "source": [
    "'''\n",
    "sort() \n",
    "'''\n",
    "# create a 10 element array of randoms\n",
    "unsorted = np.random.randn(10)\n",
    "print('Unsorted \\n', unsorted)\n",
    "\n",
    "# inplace sorting\n",
    "unsorted.sort() \n",
    "print('Sorted \\n', unsorted)\n",
    "\n",
    "print()\n",
    "print('----------------------------------')\n",
    "\n",
    "\n",
    "'''\n",
    "unique()\n",
    "'''\n",
    "ary = np.array([1,2,1,4,2,1,4,2])\n",
    "print('Unique values : ', np.unique(ary))\n",
    "print()\n",
    "print('----------------------------------')\n",
    "\n",
    "\n",
    "'''\n",
    "vstack and hstack\n",
    "'''\n",
    "arx = np.array([[1,2,3],[3,4,5]])\n",
    "ary = np.array([[4,5,6],[7,8,9]])\n",
    "print('Vertical Stack \\n', np.vstack((arx,ary)))\n",
    "print('Horizontal Stack \\n', np.hstack((arx,ary)))\n",
    "print('Concate along columns \\n', np.concatenate([arx, ary], axis = 0)) # similar vstack\n",
    "print('Concate along rows \\n', np.concatenate([arx, ary], axis = 1))    # similar hstack \n",
    "print()\n",
    "print('----------------------------------')\n",
    "\n",
    "\n",
    "'''\n",
    "ravel :  convert one numpy array into a single column \n",
    "'''\n",
    "ary = np.array([[1,2,3],[3,4,5]])\n",
    "print('Ravel \\n', ary.ravel())\n",
    "print()\n",
    "print('----------------------------------')\n",
    "\n",
    "\n",
    "'''\n",
    "tile()\n",
    "'''\n",
    "ary = np.array([-1, 0, 1])\n",
    "ary_tile = np.tile(ary, (4, 1)) # Stack 4 copies of v on top of each other\n",
    "print('tile array \\n', ary_tile)"
   ]
  },
  {
   "cell_type": "code",
   "execution_count": 28,
   "metadata": {},
   "outputs": [
    {
     "name": "stdout",
     "output_type": "stream",
     "text": [
      "['desk' 'chair' 'bulb'] ['lamp' 'bulb' 'chair']\n",
      "['bulb' 'chair']\n",
      "['bulb' 'chair' 'desk' 'lamp']\n",
      "['desk']\n",
      "[False  True  True]\n"
     ]
    }
   ],
   "source": [
    "# Set Function\n",
    "\n",
    "s1 = np.array(['desk','chair','bulb'])\n",
    "s2 = np.array(['lamp','bulb','chair'])\n",
    "print(s1, s2)\n",
    "\n",
    "print( np.intersect1d(s1, s2) ) \n",
    "print( np.union1d(s1, s2) )\n",
    "print( np.setdiff1d(s1, s2) )# elements in s1 that are not in s2\n",
    "print( np.in1d(s1, s2) ) # which element of s1 is also in s2"
   ]
  },
  {
   "cell_type": "markdown",
   "metadata": {},
   "source": [
    "---\n",
    "\n",
    "<p style=\"font-family: Arial; font-size:1.75em;color:#2462C0; font-style:bold\"><br>Broadcasting</p><br>\n",
    "\n",
    "Broadcasting is a powerful mechanism that allows numpy to work with arrays of different shapes when performing arithmetic operations. Frequently we have a smaller array and a larger array, and we want to use the smaller array multiple times to perform some operation on the larger array"
   ]
  },
  {
   "cell_type": "code",
   "execution_count": 29,
   "metadata": {},
   "outputs": [
    {
     "name": "stdout",
     "output_type": "stream",
     "text": [
      "[[0. 0. 0.]\n",
      " [0. 0. 0.]\n",
      " [0. 0. 0.]\n",
      " [0. 0. 0.]]\n",
      "[[1. 0. 2.]\n",
      " [1. 0. 2.]\n",
      " [1. 0. 2.]\n",
      " [1. 0. 2.]]\n",
      "[[0]\n",
      " [1]\n",
      " [2]\n",
      " [3]]\n",
      "[[0. 0. 0.]\n",
      " [1. 1. 1.]\n",
      " [2. 2. 2.]\n",
      " [3. 3. 3.]]\n",
      "[[1. 1. 1.]\n",
      " [1. 1. 1.]\n",
      " [1. 1. 1.]\n",
      " [1. 1. 1.]]\n"
     ]
    },
    {
     "data": {
      "text/plain": [
       "'output\\n[[1. 1. 1.]\\n [1. 1. 1.]\\n [1. 1. 1.]\\n [1. 1. 1.]]\\n'"
      ]
     },
     "execution_count": 29,
     "metadata": {},
     "output_type": "execute_result"
    }
   ],
   "source": [
    "start = np.zeros((4,3))\n",
    "print(start)\n",
    "\n",
    "'''output\n",
    "[[0. 0. 0.]\n",
    " [0. 0. 0.]\n",
    " [0. 0. 0.]\n",
    " [0. 0. 0.]]\n",
    "'''\n",
    "\n",
    "# create a rank 1 ndarray with 3 values\n",
    "add_rows = np.array([1, 0, 2])\n",
    "\n",
    "y = start + add_rows  # add to each row of 'start' using broadcasting\n",
    "print(y)\n",
    "\n",
    "'''output\n",
    "[[1. 0. 2.]\n",
    " [1. 0. 2.]\n",
    " [1. 0. 2.]\n",
    " [1. 0. 2.]]\n",
    "'''\n",
    "\n",
    "# create an ndarray which is 4 x 1 to broadcast across columns\n",
    "add_cols = np.array([[0,1,2,3]])\n",
    "add_cols = add_cols.T\n",
    "\n",
    "print(add_cols)\n",
    "'''output\n",
    "[[0]\n",
    " [1]\n",
    " [2]\n",
    " [3]]\n",
    "'''\n",
    "\n",
    "# add to each column of 'start' using broadcasting\n",
    "y = start + add_cols \n",
    "print(y)\n",
    "\n",
    "'''output\n",
    "[[0. 0. 0.]\n",
    " [1. 1. 1.]\n",
    " [2. 2. 2.]\n",
    " [3. 3. 3.]]\n",
    "'''\n",
    "\n",
    "# this will just broadcast in both dimensions\n",
    "add_scalar = np.array([1])  \n",
    "print(start + add_scalar)\n",
    "'''output\n",
    "[[1. 1. 1.]\n",
    " [1. 1. 1.]\n",
    " [1. 1. 1.]\n",
    " [1. 1. 1.]]\n",
    "'''"
   ]
  },
  {
   "cell_type": "markdown",
   "metadata": {},
   "source": [
    "Broadcasting two arrays together follows these rules:\n",
    "\n",
    "- If the arrays do not have the same rank, prepend the shape of the lower rank array with 1s until both shapes have the same length.\n",
    "- The two arrays are said to be compatible in a dimension if they have the same size in the dimension, or if one of the arrays has size 1 in that dimension.\n",
    "- The arrays can be broadcast together if they are compatible in all dimensions.\n",
    "- After broadcasting, each array behaves as if it had shape equal to the elementwise maximum of shapes of the two input arrays.\n",
    "- In any dimension where one array had size 1 and the other array had size greater than 1, the first array behaves as if it were copied along that dimension"
   ]
  },
  {
   "cell_type": "markdown",
   "metadata": {},
   "source": [
    "## Additional Resources\n",
    "\n",
    "- [Official | Numpy](http://www.numpy.org/)\n",
    "- [DataCamp | Numpy](https://www.datacamp.com/community/tutorials/python-numpy-tutorial)"
   ]
  }
 ],
 "metadata": {
  "kernelspec": {
   "display_name": "Python 3",
   "language": "python",
   "name": "python3"
  },
  "language_info": {
   "codemirror_mode": {
    "name": "ipython",
    "version": 3
   },
   "file_extension": ".py",
   "mimetype": "text/x-python",
   "name": "python",
   "nbconvert_exporter": "python",
   "pygments_lexer": "ipython3",
   "version": "3.7.0"
  }
 },
 "nbformat": 4,
 "nbformat_minor": 2
}
